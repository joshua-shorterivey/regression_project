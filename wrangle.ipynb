{
 "cells": [
  {
   "cell_type": "markdown",
   "metadata": {},
   "source": [
    "# Imports"
   ]
  },
  {
   "cell_type": "code",
   "execution_count": 4,
   "metadata": {},
   "outputs": [],
   "source": [
    "#Import Section\n",
    "import pandas as pd\n",
    "import numpy as np\n",
    "import seaborn as sns\n",
    "import matplotlib.pyplot as plt\n",
    "\n",
    "from env import user, password, host\n",
    "from os.path import exists\n",
    "\n",
    "from sklearn.model_selection import train_test_split\n",
    "from sklearn.impute import SimpleImputer\n",
    "from sklearn import preprocessing\n",
    "\n",
    "import warnings\n",
    "warnings.filterwarnings(\"ignore\")\n"
   ]
  },
  {
   "cell_type": "markdown",
   "metadata": {},
   "source": [
    "# Acquire"
   ]
  },
  {
   "cell_type": "code",
   "execution_count": 10,
   "metadata": {},
   "outputs": [],
   "source": [
    "#function to acquire zillow data from codeup database --> place in wrangle.py module\n",
    "def acquire_zillow():\n",
    "    #create url to access DB\n",
    "    url = f\"mysql+pymysql://{user}:{password}@{host}/zillow\"\n",
    "\n",
    "    #sql to acquire data. \n",
    "    sql = \"\"\"\n",
    "    SELECT bedroomcnt as bedrooms, \n",
    "        bathroomcnt as bathrooms, \n",
    "        calculatedfinishedsquarefeet as area, \n",
    "        taxvaluedollarcnt as home_value,\n",
    "        yearbuilt as year_built, \n",
    "        taxamount as tax_amount, \n",
    "        fips as county\n",
    "    FROM properties_2017\n",
    "    LEFT JOIN propertylandusetype USING (propertylandusetypeid)\n",
    "    LEFT JOIN predictions_2017 USING (parcelid)\n",
    "    WHERE propertylandusedesc IN (\"Single Family Residential\", \"Inferred Single Family Residential\") \n",
    "        AND transactiondate like '%%2017%%'\n",
    "    \"\"\"\n",
    "\n",
    "    #read the data in a dataFrame. will use pre-existing csv file if available;\n",
    "    if exists('zillow_data.csv'):\n",
    "        df = pd.read_csv('zillow_data.csv').drop(columns='Unnamed: 0')\n",
    "    else:\n",
    "        df = pd.read_sql(sql, url)\n",
    "\n",
    "    #drops null values from df    \n",
    "    df = df.dropna(axis=0)\n",
    "\n",
    "    return df"
   ]
  },
  {
   "cell_type": "code",
   "execution_count": 11,
   "metadata": {},
   "outputs": [],
   "source": [
    "#initial data acquisition\n",
    "df = acquire_zillow()"
   ]
  },
  {
   "cell_type": "code",
   "execution_count": 12,
   "metadata": {},
   "outputs": [
    {
     "data": {
      "text/html": [
       "<div>\n",
       "<style scoped>\n",
       "    .dataframe tbody tr th:only-of-type {\n",
       "        vertical-align: middle;\n",
       "    }\n",
       "\n",
       "    .dataframe tbody tr th {\n",
       "        vertical-align: top;\n",
       "    }\n",
       "\n",
       "    .dataframe thead th {\n",
       "        text-align: right;\n",
       "    }\n",
       "</style>\n",
       "<table border=\"1\" class=\"dataframe\">\n",
       "  <thead>\n",
       "    <tr style=\"text-align: right;\">\n",
       "      <th></th>\n",
       "      <th>bedrooms</th>\n",
       "      <th>bathrooms</th>\n",
       "      <th>area</th>\n",
       "      <th>home_value</th>\n",
       "      <th>year_built</th>\n",
       "      <th>tax_amount</th>\n",
       "      <th>county</th>\n",
       "    </tr>\n",
       "  </thead>\n",
       "  <tbody>\n",
       "    <tr>\n",
       "      <th>0</th>\n",
       "      <td>4.0</td>\n",
       "      <td>3.5</td>\n",
       "      <td>3100.0</td>\n",
       "      <td>1023282.0</td>\n",
       "      <td>1998.0</td>\n",
       "      <td>11013.72</td>\n",
       "      <td>6059.0</td>\n",
       "    </tr>\n",
       "    <tr>\n",
       "      <th>1</th>\n",
       "      <td>2.0</td>\n",
       "      <td>1.0</td>\n",
       "      <td>1465.0</td>\n",
       "      <td>464000.0</td>\n",
       "      <td>1967.0</td>\n",
       "      <td>5672.48</td>\n",
       "      <td>6111.0</td>\n",
       "    </tr>\n",
       "    <tr>\n",
       "      <th>2</th>\n",
       "      <td>3.0</td>\n",
       "      <td>2.0</td>\n",
       "      <td>1243.0</td>\n",
       "      <td>564778.0</td>\n",
       "      <td>1962.0</td>\n",
       "      <td>6488.30</td>\n",
       "      <td>6059.0</td>\n",
       "    </tr>\n",
       "    <tr>\n",
       "      <th>3</th>\n",
       "      <td>4.0</td>\n",
       "      <td>3.0</td>\n",
       "      <td>2376.0</td>\n",
       "      <td>145143.0</td>\n",
       "      <td>1970.0</td>\n",
       "      <td>1777.51</td>\n",
       "      <td>6037.0</td>\n",
       "    </tr>\n",
       "    <tr>\n",
       "      <th>4</th>\n",
       "      <td>4.0</td>\n",
       "      <td>3.0</td>\n",
       "      <td>2962.0</td>\n",
       "      <td>773303.0</td>\n",
       "      <td>1950.0</td>\n",
       "      <td>9516.26</td>\n",
       "      <td>6037.0</td>\n",
       "    </tr>\n",
       "  </tbody>\n",
       "</table>\n",
       "</div>"
      ],
      "text/plain": [
       "   bedrooms  bathrooms    area  home_value  year_built  tax_amount  county\n",
       "0       4.0        3.5  3100.0   1023282.0      1998.0    11013.72  6059.0\n",
       "1       2.0        1.0  1465.0    464000.0      1967.0     5672.48  6111.0\n",
       "2       3.0        2.0  1243.0    564778.0      1962.0     6488.30  6059.0\n",
       "3       4.0        3.0  2376.0    145143.0      1970.0     1777.51  6037.0\n",
       "4       4.0        3.0  2962.0    773303.0      1950.0     9516.26  6037.0"
      ]
     },
     "execution_count": 12,
     "metadata": {},
     "output_type": "execute_result"
    }
   ],
   "source": [
    "df.head()"
   ]
  },
  {
   "cell_type": "code",
   "execution_count": 17,
   "metadata": {},
   "outputs": [
    {
     "name": "stdout",
     "output_type": "stream",
     "text": [
      "<class 'pandas.core.frame.DataFrame'>\n",
      "RangeIndex: 52441 entries, 0 to 52440\n",
      "Data columns (total 7 columns):\n",
      " #   Column      Non-Null Count  Dtype  \n",
      "---  ------      --------------  -----  \n",
      " 0   bedrooms    52441 non-null  float64\n",
      " 1   bathrooms   52441 non-null  float64\n",
      " 2   area        52359 non-null  float64\n",
      " 3   home_value  52440 non-null  float64\n",
      " 4   year_built  52325 non-null  float64\n",
      " 5   tax_amount  52437 non-null  float64\n",
      " 6   county      52441 non-null  float64\n",
      "dtypes: float64(7)\n",
      "memory usage: 2.8 MB\n"
     ]
    }
   ],
   "source": [
    "df.info(null_counts=True)"
   ]
  },
  {
   "cell_type": "code",
   "execution_count": 18,
   "metadata": {},
   "outputs": [
    {
     "data": {
      "text/plain": [
       "bedrooms        0\n",
       "bathrooms       0\n",
       "area           82\n",
       "home_value      1\n",
       "year_built    116\n",
       "tax_amount      4\n",
       "county          0\n",
       "dtype: int64"
      ]
     },
     "execution_count": 18,
     "metadata": {},
     "output_type": "execute_result"
    }
   ],
   "source": [
    "df.isnull().sum()"
   ]
  },
  {
   "cell_type": "code",
   "execution_count": 20,
   "metadata": {},
   "outputs": [],
   "source": [
    "#drops null values --> total goes from 52441 to 52315 --> added to acquire_zillow function\n",
    "df = df.dropna(axis=0)\n"
   ]
  },
  {
   "cell_type": "markdown",
   "metadata": {},
   "source": [
    "## Takeways\n",
    "* small amount of nulls in area, home_value, year_built, and tax_amount\n",
    "    - drop them. less than 1% of data\n",
    "    - add code to drop nulls into the initial acquisition function"
   ]
  },
  {
   "cell_type": "markdown",
   "metadata": {},
   "source": [
    "# Prepare"
   ]
  },
  {
   "cell_type": "code",
   "execution_count": 22,
   "metadata": {},
   "outputs": [
    {
     "data": {
      "text/html": [
       "<div>\n",
       "<style scoped>\n",
       "    .dataframe tbody tr th:only-of-type {\n",
       "        vertical-align: middle;\n",
       "    }\n",
       "\n",
       "    .dataframe tbody tr th {\n",
       "        vertical-align: top;\n",
       "    }\n",
       "\n",
       "    .dataframe thead th {\n",
       "        text-align: right;\n",
       "    }\n",
       "</style>\n",
       "<table border=\"1\" class=\"dataframe\">\n",
       "  <thead>\n",
       "    <tr style=\"text-align: right;\">\n",
       "      <th></th>\n",
       "      <th>bedrooms</th>\n",
       "      <th>bathrooms</th>\n",
       "      <th>area</th>\n",
       "      <th>home_value</th>\n",
       "      <th>year_built</th>\n",
       "      <th>tax_amount</th>\n",
       "      <th>county</th>\n",
       "    </tr>\n",
       "  </thead>\n",
       "  <tbody>\n",
       "    <tr>\n",
       "      <th>count</th>\n",
       "      <td>52315.00</td>\n",
       "      <td>52315.00</td>\n",
       "      <td>52315.00</td>\n",
       "      <td>52315.00</td>\n",
       "      <td>52315.00</td>\n",
       "      <td>52315.00</td>\n",
       "      <td>52315.00</td>\n",
       "    </tr>\n",
       "    <tr>\n",
       "      <th>mean</th>\n",
       "      <td>3.31</td>\n",
       "      <td>2.30</td>\n",
       "      <td>1922.55</td>\n",
       "      <td>528044.82</td>\n",
       "      <td>1963.40</td>\n",
       "      <td>6434.75</td>\n",
       "      <td>6049.09</td>\n",
       "    </tr>\n",
       "    <tr>\n",
       "      <th>std</th>\n",
       "      <td>0.94</td>\n",
       "      <td>1.02</td>\n",
       "      <td>1003.63</td>\n",
       "      <td>748457.59</td>\n",
       "      <td>23.13</td>\n",
       "      <td>8709.64</td>\n",
       "      <td>20.99</td>\n",
       "    </tr>\n",
       "    <tr>\n",
       "      <th>min</th>\n",
       "      <td>0.00</td>\n",
       "      <td>0.00</td>\n",
       "      <td>128.00</td>\n",
       "      <td>1000.00</td>\n",
       "      <td>1878.00</td>\n",
       "      <td>49.18</td>\n",
       "      <td>6037.00</td>\n",
       "    </tr>\n",
       "    <tr>\n",
       "      <th>25%</th>\n",
       "      <td>3.00</td>\n",
       "      <td>2.00</td>\n",
       "      <td>1268.00</td>\n",
       "      <td>193701.00</td>\n",
       "      <td>1950.00</td>\n",
       "      <td>2656.18</td>\n",
       "      <td>6037.00</td>\n",
       "    </tr>\n",
       "    <tr>\n",
       "      <th>50%</th>\n",
       "      <td>3.00</td>\n",
       "      <td>2.00</td>\n",
       "      <td>1658.00</td>\n",
       "      <td>373374.00</td>\n",
       "      <td>1961.00</td>\n",
       "      <td>4645.42</td>\n",
       "      <td>6037.00</td>\n",
       "    </tr>\n",
       "    <tr>\n",
       "      <th>75%</th>\n",
       "      <td>4.00</td>\n",
       "      <td>3.00</td>\n",
       "      <td>2305.00</td>\n",
       "      <td>618617.00</td>\n",
       "      <td>1979.00</td>\n",
       "      <td>7371.64</td>\n",
       "      <td>6059.00</td>\n",
       "    </tr>\n",
       "    <tr>\n",
       "      <th>max</th>\n",
       "      <td>14.00</td>\n",
       "      <td>18.00</td>\n",
       "      <td>21929.00</td>\n",
       "      <td>49061236.00</td>\n",
       "      <td>2016.00</td>\n",
       "      <td>586639.30</td>\n",
       "      <td>6111.00</td>\n",
       "    </tr>\n",
       "  </tbody>\n",
       "</table>\n",
       "</div>"
      ],
      "text/plain": [
       "       bedrooms  bathrooms      area   home_value  year_built  tax_amount  \\\n",
       "count  52315.00   52315.00  52315.00     52315.00    52315.00    52315.00   \n",
       "mean       3.31       2.30   1922.55    528044.82     1963.40     6434.75   \n",
       "std        0.94       1.02   1003.63    748457.59       23.13     8709.64   \n",
       "min        0.00       0.00    128.00      1000.00     1878.00       49.18   \n",
       "25%        3.00       2.00   1268.00    193701.00     1950.00     2656.18   \n",
       "50%        3.00       2.00   1658.00    373374.00     1961.00     4645.42   \n",
       "75%        4.00       3.00   2305.00    618617.00     1979.00     7371.64   \n",
       "max       14.00      18.00  21929.00  49061236.00     2016.00   586639.30   \n",
       "\n",
       "         county  \n",
       "count  52315.00  \n",
       "mean    6049.09  \n",
       "std       20.99  \n",
       "min     6037.00  \n",
       "25%     6037.00  \n",
       "50%     6037.00  \n",
       "75%     6059.00  \n",
       "max     6111.00  "
      ]
     },
     "execution_count": 22,
     "metadata": {},
     "output_type": "execute_result"
    }
   ],
   "source": [
    "round(df.describe(),2)"
   ]
  },
  {
   "cell_type": "markdown",
   "metadata": {},
   "source": [
    "## Takeaways\n",
    "* change county fips code to actual county names --> \n",
    "* can area be used to create small, med, large features --> save for post mvp pass\n",
    "* change types for county, year_built --> categorical"
   ]
  },
  {
   "cell_type": "code",
   "execution_count": null,
   "metadata": {},
   "outputs": [],
   "source": [
    "def prep(df):\n",
    "    \"\"\"\n",
    "    Purpose\n",
    "        To return dataset for exploration\n",
    "\n",
    "    Parameters\n",
    "        df: dataframe to perform desired operations on\n",
    "\n",
    "    Returns\n",
    "        train, validate, and test datasets\n",
    "    \"\"\"\n",
    "\n",
    "    #change county fips codes to county names\n",
    "    df.county = df.county.map({6037: 'LA County', 6059: 'Orange County', 6111: 'Ventura County'})\n",
    "\n",
    "    #remove outliers\n",
    "    df = remove_outliers(df, 1.5, ['bedrooms', 'bathrooms', 'area', 'home_value', 'tax_amount'])\n",
    "\n",
    "    #change datatypes of categorical columns\n",
    "    df.county = df.county.astype('object')\n",
    "    df.year_built = df.year_built.astype('int').astype('object')\n",
    "\n",
    "    #plot basic visuals of column counts, boxplots for numeric columns, and \n",
    "    plt.figure(figsize=(20,5))\n",
    "    i=1\n",
    "\n",
    "    for col in df.columns:\n",
    "        plt.subplot(1, len(df.columns), i)\n",
    "        df[col].hist(bins=5)\n",
    "        plt.title(col)\n",
    "        i += 1\n",
    "    plt.tight_layout()\n",
    "    plt.show()\n",
    "\n",
    "    #boxplot visual\n",
    "    plt.figure(figsize=(20,5))\n",
    "    i=1\n",
    "\n",
    "    for col in df.drop(columns=['county', 'year_built']).columns:\n",
    "    \n",
    "        plt.subplot(1, len(df.columns), i)\n",
    "        sns.boxplot(data=df[col])\n",
    "        plt.title(col)\n",
    "        i += 1\n",
    "    plt.tight_layout()\n",
    "    plt.show()\n",
    "    \n",
    "    return df"
   ]
  },
  {
   "cell_type": "code",
   "execution_count": 23,
   "metadata": {},
   "outputs": [
    {
     "data": {
      "text/plain": [
       "array(['6059.0', '6111.0', '6059.0', ..., '6111.0', 'LA County',\n",
       "       'LA County'], dtype='<U32')"
      ]
     },
     "execution_count": 23,
     "metadata": {},
     "output_type": "execute_result"
    }
   ],
   "source": [
    "#change county fips codes to county names\n",
    "df.county = df.county.map({6037: 'LA County', 6059: 'Orange County', 6111: 'Ventura County'})"
   ]
  },
  {
   "cell_type": "code",
   "execution_count": 35,
   "metadata": {},
   "outputs": [
    {
     "data": {
      "image/png": "[encoded data removed]",
      "text/plain": [
       "<Figure size 1440x360 with 7 Axes>"
      ]
     },
     "metadata": {
      "needs_background": "light"
     },
     "output_type": "display_data"
    }
   ],
   "source": [
    "# check for outliers\n",
    "plt.figure(figsize=(20,5))\n",
    "i=1\n",
    "\n",
    "for col in df.columns:\n",
    "    plt.subplot(1, len(df.columns), i)\n",
    "    df[col].hist(bins=5)\n",
    "    plt.title(col)\n",
    "    i += 1\n",
    "plt.tight_layout()\n",
    "plt.show()\n"
   ]
  },
  {
   "cell_type": "code",
   "execution_count": 40,
   "metadata": {},
   "outputs": [
    {
     "data": {
      "image/png": "[encoded data removed]",
      "text/plain": [
       "<Figure size 1440x1800 with 5 Axes>"
      ]
     },
     "metadata": {
      "needs_background": "light"
     },
     "output_type": "display_data"
    }
   ],
   "source": [
    "# use a loop now --> can not show fips or year built\n",
    "plt.figure(figsize=(20,25))\n",
    "i=1\n",
    "\n",
    "for col in df.drop(columns=['county', 'year_built']).columns:\n",
    "   \n",
    "    plt.subplot(1, len(df.columns), i)\n",
    "    sns.boxplot(data=df[col])\n",
    "    plt.title(col)\n",
    "    i += 1\n",
    "plt.tight_layout()\n",
    "plt.show()"
   ]
  },
  {
   "cell_type": "markdown",
   "metadata": {},
   "source": [
    "## Takeaways\n",
    "* Outliers --> bedrooms, bathrooms, area, homevalue, tax_amount\n",
    " - Create function to remove outliers --> add to wrangle.py, include function call within prep function\n"
   ]
  },
  {
   "cell_type": "code",
   "execution_count": null,
   "metadata": {},
   "outputs": [],
   "source": [
    "# function for removing outliers\n",
    "def remove_outliers(df, k, col_list):\n",
    "    \"\"\" \n",
    "    remove outliers from a list of columns in a dataframe and return that dataframe\n",
    "    \"\"\"\n",
    "\n",
    "    # total number of observations\n",
    "    num_obs = df.shape[0]\n",
    "        \n",
    "    # Create a column that will label our rows as containing an outlier. sets default value\n",
    "    df['outlier'] = False\n",
    "\n",
    "    # loop through the columns provided to find appropriate values and labels\n",
    "    for col in col_list:\n",
    "\n",
    "        # find quartiles\n",
    "        q1, q3 = df[col].quantile([.25, .75])  \n",
    "        \n",
    "       # get interquartile range\n",
    "        iqr = q3 - q1\n",
    "\n",
    "       # find upper/lower bounds \n",
    "        upper_bound = q3 + k * iqr   # get upper bound\n",
    "        lower_bound = q1 - k * iqr   # get lower bound\n",
    "\n",
    "        # update the outlier label as needed. \n",
    "        df['outlier'] = np.where(((df[col] < lower_bound) | (df[col] > upper_bound)) & (df.outlier == False), True, df.outlier)\n",
    "    \n",
    "    # set dataframe to dataframe w/o the outliers\n",
    "    df = df[df.outlier == False]\n",
    "\n",
    "    # drop the outlier column from the dataFrame. no longer needed\n",
    "    df.drop(columns=['outlier'], inplace=True)\n",
    "\n",
    "    # print out number of removed observations\n",
    "    print(f\"Number of observations removed: {num_obs - df.shape[0]}\")\n",
    "        \n",
    "    return df"
   ]
  },
  {
   "cell_type": "code",
   "execution_count": 43,
   "metadata": {},
   "outputs": [
    {
     "name": "stdout",
     "output_type": "stream",
     "text": [
      "Number of observations removed: 5898\n"
     ]
    },
    {
     "data": {
      "text/html": [
       "<div>\n",
       "<style scoped>\n",
       "    .dataframe tbody tr th:only-of-type {\n",
       "        vertical-align: middle;\n",
       "    }\n",
       "\n",
       "    .dataframe tbody tr th {\n",
       "        vertical-align: top;\n",
       "    }\n",
       "\n",
       "    .dataframe thead th {\n",
       "        text-align: right;\n",
       "    }\n",
       "</style>\n",
       "<table border=\"1\" class=\"dataframe\">\n",
       "  <thead>\n",
       "    <tr style=\"text-align: right;\">\n",
       "      <th></th>\n",
       "      <th>bedrooms</th>\n",
       "      <th>bathrooms</th>\n",
       "      <th>area</th>\n",
       "      <th>home_value</th>\n",
       "      <th>year_built</th>\n",
       "      <th>tax_amount</th>\n",
       "      <th>county</th>\n",
       "    </tr>\n",
       "  </thead>\n",
       "  <tbody>\n",
       "    <tr>\n",
       "      <th>0</th>\n",
       "      <td>4.0</td>\n",
       "      <td>3.5</td>\n",
       "      <td>3100.0</td>\n",
       "      <td>1023282.0</td>\n",
       "      <td>1998.0</td>\n",
       "      <td>11013.72</td>\n",
       "      <td>Orange County</td>\n",
       "    </tr>\n",
       "    <tr>\n",
       "      <th>1</th>\n",
       "      <td>2.0</td>\n",
       "      <td>1.0</td>\n",
       "      <td>1465.0</td>\n",
       "      <td>464000.0</td>\n",
       "      <td>1967.0</td>\n",
       "      <td>5672.48</td>\n",
       "      <td>Ventura County</td>\n",
       "    </tr>\n",
       "    <tr>\n",
       "      <th>2</th>\n",
       "      <td>3.0</td>\n",
       "      <td>2.0</td>\n",
       "      <td>1243.0</td>\n",
       "      <td>564778.0</td>\n",
       "      <td>1962.0</td>\n",
       "      <td>6488.30</td>\n",
       "      <td>Orange County</td>\n",
       "    </tr>\n",
       "    <tr>\n",
       "      <th>3</th>\n",
       "      <td>4.0</td>\n",
       "      <td>3.0</td>\n",
       "      <td>2376.0</td>\n",
       "      <td>145143.0</td>\n",
       "      <td>1970.0</td>\n",
       "      <td>1777.51</td>\n",
       "      <td>LA County</td>\n",
       "    </tr>\n",
       "    <tr>\n",
       "      <th>4</th>\n",
       "      <td>4.0</td>\n",
       "      <td>3.0</td>\n",
       "      <td>2962.0</td>\n",
       "      <td>773303.0</td>\n",
       "      <td>1950.0</td>\n",
       "      <td>9516.26</td>\n",
       "      <td>LA County</td>\n",
       "    </tr>\n",
       "    <tr>\n",
       "      <th>...</th>\n",
       "      <td>...</td>\n",
       "      <td>...</td>\n",
       "      <td>...</td>\n",
       "      <td>...</td>\n",
       "      <td>...</td>\n",
       "      <td>...</td>\n",
       "      <td>...</td>\n",
       "    </tr>\n",
       "    <tr>\n",
       "      <th>52436</th>\n",
       "      <td>4.0</td>\n",
       "      <td>2.0</td>\n",
       "      <td>1633.0</td>\n",
       "      <td>346534.0</td>\n",
       "      <td>1962.0</td>\n",
       "      <td>4175.08</td>\n",
       "      <td>LA County</td>\n",
       "    </tr>\n",
       "    <tr>\n",
       "      <th>52437</th>\n",
       "      <td>2.0</td>\n",
       "      <td>2.0</td>\n",
       "      <td>1286.0</td>\n",
       "      <td>354621.0</td>\n",
       "      <td>1940.0</td>\n",
       "      <td>4478.43</td>\n",
       "      <td>LA County</td>\n",
       "    </tr>\n",
       "    <tr>\n",
       "      <th>52438</th>\n",
       "      <td>4.0</td>\n",
       "      <td>2.0</td>\n",
       "      <td>1612.0</td>\n",
       "      <td>67205.0</td>\n",
       "      <td>1964.0</td>\n",
       "      <td>1107.48</td>\n",
       "      <td>Ventura County</td>\n",
       "    </tr>\n",
       "    <tr>\n",
       "      <th>52439</th>\n",
       "      <td>3.0</td>\n",
       "      <td>1.0</td>\n",
       "      <td>1032.0</td>\n",
       "      <td>49546.0</td>\n",
       "      <td>1954.0</td>\n",
       "      <td>876.43</td>\n",
       "      <td>LA County</td>\n",
       "    </tr>\n",
       "    <tr>\n",
       "      <th>52440</th>\n",
       "      <td>3.0</td>\n",
       "      <td>2.0</td>\n",
       "      <td>1762.0</td>\n",
       "      <td>522000.0</td>\n",
       "      <td>1955.0</td>\n",
       "      <td>6317.15</td>\n",
       "      <td>LA County</td>\n",
       "    </tr>\n",
       "  </tbody>\n",
       "</table>\n",
       "<p>46417 rows × 7 columns</p>\n",
       "</div>"
      ],
      "text/plain": [
       "       bedrooms  bathrooms    area  home_value  year_built  tax_amount  \\\n",
       "0           4.0        3.5  3100.0   1023282.0      1998.0    11013.72   \n",
       "1           2.0        1.0  1465.0    464000.0      1967.0     5672.48   \n",
       "2           3.0        2.0  1243.0    564778.0      1962.0     6488.30   \n",
       "3           4.0        3.0  2376.0    145143.0      1970.0     1777.51   \n",
       "4           4.0        3.0  2962.0    773303.0      1950.0     9516.26   \n",
       "...         ...        ...     ...         ...         ...         ...   \n",
       "52436       4.0        2.0  1633.0    346534.0      1962.0     4175.08   \n",
       "52437       2.0        2.0  1286.0    354621.0      1940.0     4478.43   \n",
       "52438       4.0        2.0  1612.0     67205.0      1964.0     1107.48   \n",
       "52439       3.0        1.0  1032.0     49546.0      1954.0      876.43   \n",
       "52440       3.0        2.0  1762.0    522000.0      1955.0     6317.15   \n",
       "\n",
       "               county  \n",
       "0       Orange County  \n",
       "1      Ventura County  \n",
       "2       Orange County  \n",
       "3           LA County  \n",
       "4           LA County  \n",
       "...               ...  \n",
       "52436       LA County  \n",
       "52437       LA County  \n",
       "52438  Ventura County  \n",
       "52439       LA County  \n",
       "52440       LA County  \n",
       "\n",
       "[46417 rows x 7 columns]"
      ]
     },
     "execution_count": 43,
     "metadata": {},
     "output_type": "execute_result"
    }
   ],
   "source": [
    "#use the above function --> 1.5*IQR is considered fairly restrictive \n",
    "df = remove_outliers(df, 1.5, ['bedrooms', 'bathrooms', 'area', 'home_value', 'tax_amount'])\n",
    "df"
   ]
  },
  {
   "cell_type": "code",
   "execution_count": 44,
   "metadata": {},
   "outputs": [
    {
     "data": {
      "image/png": "[encoded data removed]",
      "text/plain": [
       "<Figure size 1440x360 with 7 Axes>"
      ]
     },
     "metadata": {
      "needs_background": "light"
     },
     "output_type": "display_data"
    }
   ],
   "source": [
    "# visualize data with outliers removed\n",
    "plt.figure(figsize=(20,5))\n",
    "i=1\n",
    "\n",
    "for col in df.columns:\n",
    "    plt.subplot(1, len(df.columns), i)\n",
    "    df[col].hist(bins=5)\n",
    "    plt.title(col)\n",
    "    i += 1\n",
    "plt.tight_layout()\n",
    "plt.show()"
   ]
  },
  {
   "cell_type": "code",
   "execution_count": 47,
   "metadata": {},
   "outputs": [
    {
     "data": {
      "image/png": "[encoded data removed]",
      "text/plain": [
       "<Figure size 1440x360 with 5 Axes>"
      ]
     },
     "metadata": {
      "needs_background": "light"
     },
     "output_type": "display_data"
    }
   ],
   "source": [
    "# add to function \n",
    "plt.figure(figsize=(20,5))\n",
    "i=1\n",
    "\n",
    "for col in df.drop(columns=['county', 'year_built']).columns:\n",
    "   \n",
    "    plt.subplot(1, len(df.columns), i)\n",
    "    sns.boxplot(data=df[col])\n",
    "    plt.title(col)\n",
    "    i += 1\n",
    "plt.tight_layout()\n",
    "plt.show()"
   ]
  },
  {
   "cell_type": "markdown",
   "metadata": {},
   "source": [
    "## Takeaways\n",
    "* LA County highest amount of homes by far\n",
    "* Bathrooms, Bedrooms, area, and year built pretty normal distribution\n",
    "* tax_amount and home_value seem heavily correlated\n",
    "* add code for visuals into prep function so they are automatically generated for explore phase"
   ]
  }
 ],
 "metadata": {
  "kernelspec": {
   "display_name": "Python 3.9.12 ('base')",
   "language": "python",
   "name": "python3"
  },
  "language_info": {
   "codemirror_mode": {
    "name": "ipython",
    "version": 3
   },
   "file_extension": ".py",
   "mimetype": "text/x-python",
   "name": "python",
   "nbconvert_exporter": "python",
   "pygments_lexer": "ipython3",
   "version": "3.9.12"
  },
  "orig_nbformat": 4,
  "vscode": {
   "interpreter": {
    "hash": "38cca0c38332a56087b24af0bc80247f4fced29cb4f7f437d91dc159adec9c4e"
   }
  }
 },
 "nbformat": 4,
 "nbformat_minor": 2
}
